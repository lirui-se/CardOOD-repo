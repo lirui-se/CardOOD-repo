{
 "cells": [
  {
   "cell_type": "code",
   "execution_count": 1,
   "metadata": {},
   "outputs": [
    {
     "name": "stdout",
     "output_type": "stream",
     "text": [
      "d1.d_year '1006'\n",
      "False\n",
      "d1.d_year '1006'\n",
      "ib_upper_bound 36105\n",
      "ib_lower_bound 43014\n",
      "cs_list_price (12355)  (54152)\n",
      "item1.i_category 'Jewelry'  'Music'\n",
      "hd_buy_potential '0-500%'\n"
     ]
    }
   ],
   "source": [
    "import re\n",
    "op_dict = {'eq': 'eq', 'lt': 'lt', 'like': 'like', 'in': 'in'}\n",
    "eqpat = re.compile(r'\\s*([a-zA-z]+[a-zA-z_0-9\\.]*)\\s*=\\s*(.+)\\s*')\n",
    "nepat = re.compile(r'\\s*([a-zA-z]+[a-zA-z_0-9\\.]*)\\s*!=\\s*(.+)\\s*')\n",
    "ltpat = re.compile(r'\\s*([a-zA-z]+[a-zA-z_0-9\\.]*)\\s*<=\\s*(.+)\\s*')\n",
    "gtpat = re.compile(r'\\s*([a-zA-z]+[a-zA-z_0-9\\.]*)\\s*>=\\s*(.+)\\s*')\n",
    "btpat = re.compile(r'\\s*([a-zA-z]+[a-zA-z_0-9\\.]*)\\s*(between|BETWEEN)\\s*(.+)\\s*(AND|and)\\s*(.+)\\s*')\n",
    "inpat = re.compile(r'\\s*([a-zA-z]+[a-zA-z_0-9\\.]*)\\s*(in|IN)\\s*\\((.+)\\)\\s*')\n",
    "likepat = re.compile(r'\\s*([a-zA-z]+[a-zA-z_0-9\\.]*)\\s*(like|LIKE)\\s*(.+)\\s*')\n",
    "seq = 'd1.d_year = \\'1006\\''\n",
    "sne = 'd1.d_year != \\'1006\\''\n",
    "slt = 'ib_upper_bound <= 36105'\n",
    "sgt = 'ib_lower_bound >= 43014'\n",
    "sbt = 'cs_list_price between (12355) and (54152)'\n",
    "sin = 'item1.i_category in (\\'Jewelry\\', \\'Music\\')'\n",
    "slike = 'hd_buy_potential like \\'0-500%\\''\n",
    "m = eqpat.match(seq)\n",
    "print(m.group(1), m.group(2))\n",
    "print(m.group(2).isdigit())\n",
    "m = nepat.match(sne)\n",
    "print(m.group(1), m.group(2))\n",
    "m = ltpat.match(slt)\n",
    "print(m.group(1), m.group(2))\n",
    "m = gtpat.match(sgt)\n",
    "print(m.group(1), m.group(2))\n",
    "m = btpat.match(sbt)\n",
    "print(m.group(1), m.group(3), m.group(5))\n",
    "m = inpat.match(sin)\n",
    "cat = m.group(3).split(\",\")\n",
    "cat = [ c.strip(\"\") for c in cat ]\n",
    "print(m.group(1), *cat)\n",
    "m = likepat.match(slike)\n",
    "print(m.group(1), m.group(3))"
   ]
  },
  {
   "cell_type": "code",
   "execution_count": null,
   "metadata": {},
   "outputs": [],
   "source": [
    "import ast\n",
    "import operator\n",
    "\n",
    "operators = {\n",
    "    ast.Add: operator.add,\n",
    "    ast.Sub: operator.sub,\n",
    "    ast.Mult: operator.mul,\n",
    "    ast.Div: operator.truediv,\n",
    "    ast.Pow: operator.pow,\n",
    "    ast.BitXor: operator.xor,\n",
    "    ast.USub: operator.neg,\n",
    "}\n",
    "\n",
    "def eval_expr(expr):\n",
    "    \"\"\"\n",
    "    解析并计算表达式。\n",
    "    \"\"\"\n",
    "    def _eval(node):\n",
    "        if isinstance(node, ast.Num):  # 数字\n",
    "            return node.n\n",
    "        elif isinstance(node, ast.BinOp):  # 二元运算\n",
    "            left = _eval(node.left)\n",
    "            right = _eval(node.right)\n",
    "            return operators[type(node.op)](left, right)\n",
    "        elif isinstance(node, ast.UnaryOp):  # 一元运算\n",
    "            operand = _eval(node.operand)\n",
    "            return operators[type(node.op)](operand)\n",
    "        else:\n",
    "            raise TypeError(node)\n",
    "\n",
    "    node = ast.parse(expr, mode='eval')\n",
    "    return _eval(node.body)\n",
    "\n",
    "expression = \"2 + 3 * (4 - 1) ** 2\"\n",
    "result = eval_expr(expression)\n",
    "print(result)"
   ]
  }
 ],
 "metadata": {
  "kernelspec": {
   "display_name": "tim",
   "language": "python",
   "name": "python3"
  },
  "language_info": {
   "codemirror_mode": {
    "name": "ipython",
    "version": 3
   },
   "file_extension": ".py",
   "mimetype": "text/x-python",
   "name": "python",
   "nbconvert_exporter": "python",
   "pygments_lexer": "ipython3",
   "version": "3.9.19"
  }
 },
 "nbformat": 4,
 "nbformat_minor": 2
}
